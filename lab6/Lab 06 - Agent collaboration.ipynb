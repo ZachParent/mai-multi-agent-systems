{
 "cells": [
  {
   "cell_type": "markdown",
   "id": "0f1659ef-07db-404e-8cd5-0153e0523424",
   "metadata": {},
   "source": [
    "# Lab 6 - Agent Collaboration\n",
    "\n",
    "In this notebook, we will explore new aspects to manage collaboration among a team of agents. It will contain guided exercises, where the steps you have to complete will be explained, and you'll need to try completing them.\n",
    "\n",
    "## What are we going to cover in this notebook?\n",
    "\n",
    "We will cover the following topics:\n",
    "\n",
    "1. Hierarchy\n",
    "2. Managers\n",
    "3. Delegation\n",
    "4. Asynchronous tasks\n",
    "5. Example Use Case"
   ]
  },
  {
   "cell_type": "markdown",
   "id": "ee454805-66ea-453b-b0c9-4c83f675a93b",
   "metadata": {},
   "source": [
    "We'll see agent collaboration while trying to solve another example use case.\n",
    "\n",
    "Having a compilation of AI-related news ([AI news](https://www.kaggle.com/datasets/deepanshudalal09/mit-ai-news-published-till-2023)) as a CSV file, we will create a team of agents to extract and summarize one article that was written on a specific month and year. The problem statement is as follows:\n",
    "\n",
    "**Team Task**: News Article Summarization for a Specific Month and Year\n",
    "The goal of this task is to summarize one selected news article from a CSV file that was published in a specific month and year, which will be determined at runtime.\n",
    "\n",
    "**Description of the Data**:\n",
    "The input data is a CSV file containing news article metadata and text. Each row represents a single news article.\n",
    "\n",
    "**Team Goal**:\n",
    "The team's objective is to extract all news articles from a specific month and year (which will be determined at runtime), select one of them, and provide a brief summary of the article that is understandable by the general public.\n",
    "\n",
    "**Note**: This is just a toy example to illustrate several collaboration functionalities. The objective is not to obtain the best outputs, but rather to learn how to design and configure an appropriate Multi-Agent System."
   ]
  },
  {
   "cell_type": "markdown",
   "id": "06a377dc-4daa-4d67-9180-f9624d6c8699",
   "metadata": {},
   "source": [
    "## Step 1: Analyse the data\n",
    "\n",
    "1. First, you'll need to download the articles CSV file from the URV Virtual Campus or Kaggle.\n",
    "2. Open the file and analyze the columns it contains."
   ]
  },
  {
   "cell_type": "code",
   "execution_count": 1,
   "id": "a672bbf3-4486-4af5-896a-d98910646a0c",
   "metadata": {
    "jupyter": {
     "source_hidden": true
    }
   },
   "outputs": [
    {
     "data": {
      "text/html": [
       "<div>\n",
       "<style scoped>\n",
       "    .dataframe tbody tr th:only-of-type {\n",
       "        vertical-align: middle;\n",
       "    }\n",
       "\n",
       "    .dataframe tbody tr th {\n",
       "        vertical-align: top;\n",
       "    }\n",
       "\n",
       "    .dataframe thead th {\n",
       "        text-align: right;\n",
       "    }\n",
       "</style>\n",
       "<table border=\"1\" class=\"dataframe\">\n",
       "  <thead>\n",
       "    <tr style=\"text-align: right;\">\n",
       "      <th></th>\n",
       "      <th>Unnamed: 0</th>\n",
       "      <th>Published Date</th>\n",
       "      <th>Author</th>\n",
       "      <th>Source</th>\n",
       "      <th>Article Header</th>\n",
       "      <th>Sub_Headings</th>\n",
       "      <th>Article Body</th>\n",
       "      <th>Url</th>\n",
       "    </tr>\n",
       "  </thead>\n",
       "  <tbody>\n",
       "    <tr>\n",
       "      <th>0</th>\n",
       "      <td>0</td>\n",
       "      <td>July 7, 2023</td>\n",
       "      <td>Adam Zewe</td>\n",
       "      <td>MIT News Office</td>\n",
       "      <td>Learning the language of molecules to predict ...</td>\n",
       "      <td>This AI system only needs a small amount of da...</td>\n",
       "      <td>['Discovering new materials and drugs typicall...</td>\n",
       "      <td>https://news.mit.edu/2023/learning-language-mo...</td>\n",
       "    </tr>\n",
       "    <tr>\n",
       "      <th>1</th>\n",
       "      <td>1</td>\n",
       "      <td>July 6, 2023</td>\n",
       "      <td>Alex Ouyang</td>\n",
       "      <td>Abdul Latif Jameel Clinic for Machine Learning...</td>\n",
       "      <td>MIT scientists build a system that can generat...</td>\n",
       "      <td>BioAutoMATED, an open-source, automated machin...</td>\n",
       "      <td>['Is it possible to build machine-learning mod...</td>\n",
       "      <td>https://news.mit.edu/2023/bioautomated-open-so...</td>\n",
       "    </tr>\n",
       "    <tr>\n",
       "      <th>2</th>\n",
       "      <td>2</td>\n",
       "      <td>June 30, 2023</td>\n",
       "      <td>Jennifer Michalowski</td>\n",
       "      <td>McGovern Institute for Brain Research</td>\n",
       "      <td>When computer vision works more like a brain, ...</td>\n",
       "      <td>Training artificial neural networks with data ...</td>\n",
       "      <td>['From cameras to self-driving cars, many of t...</td>\n",
       "      <td>https://news.mit.edu/2023/when-computer-vision...</td>\n",
       "    </tr>\n",
       "    <tr>\n",
       "      <th>3</th>\n",
       "      <td>3</td>\n",
       "      <td>June 30, 2023</td>\n",
       "      <td>Mary Beth Gallagher</td>\n",
       "      <td>School of Engineering</td>\n",
       "      <td>Educating national security leaders on artific...</td>\n",
       "      <td>Experts from MIT’s School of Engineering, Schw...</td>\n",
       "      <td>['Understanding artificial intelligence and ho...</td>\n",
       "      <td>https://news.mit.edu/2023/educating-national-s...</td>\n",
       "    </tr>\n",
       "    <tr>\n",
       "      <th>4</th>\n",
       "      <td>4</td>\n",
       "      <td>June 30, 2023</td>\n",
       "      <td>Adam Zewe</td>\n",
       "      <td>MIT News Office</td>\n",
       "      <td>Researchers teach an AI to write better chart ...</td>\n",
       "      <td>A new dataset can help scientists develop auto...</td>\n",
       "      <td>['Chart captions that explain complex trends a...</td>\n",
       "      <td>https://news.mit.edu/2023/researchers-chart-ca...</td>\n",
       "    </tr>\n",
       "  </tbody>\n",
       "</table>\n",
       "</div>"
      ],
      "text/plain": [
       "   Unnamed: 0 Published Date                Author  \\\n",
       "0           0   July 7, 2023             Adam Zewe   \n",
       "1           1   July 6, 2023           Alex Ouyang   \n",
       "2           2  June 30, 2023  Jennifer Michalowski   \n",
       "3           3  June 30, 2023   Mary Beth Gallagher   \n",
       "4           4  June 30, 2023             Adam Zewe   \n",
       "\n",
       "                                              Source  \\\n",
       "0                                    MIT News Office   \n",
       "1  Abdul Latif Jameel Clinic for Machine Learning...   \n",
       "2              McGovern Institute for Brain Research   \n",
       "3                              School of Engineering   \n",
       "4                                    MIT News Office   \n",
       "\n",
       "                                      Article Header  \\\n",
       "0  Learning the language of molecules to predict ...   \n",
       "1  MIT scientists build a system that can generat...   \n",
       "2  When computer vision works more like a brain, ...   \n",
       "3  Educating national security leaders on artific...   \n",
       "4  Researchers teach an AI to write better chart ...   \n",
       "\n",
       "                                        Sub_Headings  \\\n",
       "0  This AI system only needs a small amount of da...   \n",
       "1  BioAutoMATED, an open-source, automated machin...   \n",
       "2  Training artificial neural networks with data ...   \n",
       "3  Experts from MIT’s School of Engineering, Schw...   \n",
       "4  A new dataset can help scientists develop auto...   \n",
       "\n",
       "                                        Article Body  \\\n",
       "0  ['Discovering new materials and drugs typicall...   \n",
       "1  ['Is it possible to build machine-learning mod...   \n",
       "2  ['From cameras to self-driving cars, many of t...   \n",
       "3  ['Understanding artificial intelligence and ho...   \n",
       "4  ['Chart captions that explain complex trends a...   \n",
       "\n",
       "                                                 Url  \n",
       "0  https://news.mit.edu/2023/learning-language-mo...  \n",
       "1  https://news.mit.edu/2023/bioautomated-open-so...  \n",
       "2  https://news.mit.edu/2023/when-computer-vision...  \n",
       "3  https://news.mit.edu/2023/educating-national-s...  \n",
       "4  https://news.mit.edu/2023/researchers-chart-ca...  "
      ]
     },
     "execution_count": 1,
     "metadata": {},
     "output_type": "execute_result"
    }
   ],
   "source": [
    "import pandas as pd\n",
    "\n",
    "articles = pd.read_csv('AI_articles.csv')\n",
    "articles.head()"
   ]
  },
  {
   "cell_type": "markdown",
   "id": "5ac3a307-8946-401d-aba0-3972800578c3",
   "metadata": {},
   "source": [
    "## Step 2: Library Initialization\n",
    "\n",
    "1. Load the necessary crewai libraries"
   ]
  },
  {
   "cell_type": "code",
   "execution_count": null,
   "id": "808b1107-0ec8-4da4-bbc5-6297a5b859aa",
   "metadata": {},
   "outputs": [],
   "source": [
    "# Load libraries\n",
    "\n"
   ]
  },
  {
   "cell_type": "code",
   "execution_count": 2,
   "id": "b0c030a0-22df-4dcf-ae5b-a73521f8f4cb",
   "metadata": {
    "jupyter": {
     "source_hidden": true
    }
   },
   "outputs": [],
   "source": [
    "from crewai import Agent, Task, Crew, Process\n",
    "from IPython.display import Markdown"
   ]
  },
  {
   "cell_type": "markdown",
   "id": "fae97a39-1495-47ef-8798-c1c6bd874830",
   "metadata": {},
   "source": [
    "## Step 3: Create a Data Schema\n",
    "\n",
    "Create a new pydantic data schema to store an article. The schema should contain:\n",
    "- **Class Name**: News\n",
    "- **Fields**:\n",
    "  - Heading (str)\n",
    "  - Subheading (str)\n",
    "  - Text (str)\n",
    "\n",
    "**Note**: don't forget to add the `get_schema` @classmethod from Lab 05!"
   ]
  },
  {
   "cell_type": "code",
   "execution_count": null,
   "id": "8b9659b4-5a3c-4b22-8c0d-b7080f9c3b75",
   "metadata": {},
   "outputs": [],
   "source": [
    "# Create the News pydantic schema\n",
    "\n"
   ]
  },
  {
   "cell_type": "code",
   "execution_count": 3,
   "id": "34bbd9a5-c5bb-473a-a91e-17abcfec4e46",
   "metadata": {
    "jupyter": {
     "source_hidden": true
    }
   },
   "outputs": [],
   "source": [
    "from pydantic import BaseModel, Field\n",
    "from typing import List\n",
    "\n",
    "class News(BaseModel):\n",
    "    \"\"\"Output of the NewsLoader tool\"\"\"\n",
    "    heading: str = Field(..., description='Heading of the article')\n",
    "    subheading: str = Field(..., description='Subheading of the article')\n",
    "    text: str = Field(..., description='Text of the article')\n",
    "\n",
    "    @classmethod\n",
    "    def get_schema(cls) -> str:\n",
    "        schema = '\\n'\n",
    "        for field_name, field_instance in cls.__fields__.items():\n",
    "            schema += f'{field_name}, described as: {field_instance.description}\\n'\n",
    "        return schema"
   ]
  },
  {
   "cell_type": "markdown",
   "id": "3a3b42fa-3788-417b-a69d-e849be6feef0",
   "metadata": {},
   "source": [
    "## Step 4: Create a New Custom Tool\n",
    "\n",
    "We'll create a new custom tool to load CSV data and select one article. The tool must have the following features:\n",
    "\n",
    "- Have an option to load the CSV when it is initialized\n",
    "- The run method must take **month** and **year** as input parameters\n",
    "- The run method can optionally load the CSV at runtime\n",
    "- Filter the news articles for the specified month and year\n",
    "- Select one of them, which can be done randomly or using a more complex approach\n",
    "\n",
    "A boilerplate for the tool is provided."
   ]
  },
  {
   "cell_type": "code",
   "execution_count": 4,
   "id": "62901be2-a873-46ed-9369-6fbee9dc5883",
   "metadata": {},
   "outputs": [],
   "source": [
    "from crewai_tools import BaseTool\n",
    "import pandas as pd\n",
    "\n",
    "\n",
    "class NewsLoader(BaseTool):\n",
    "    name: str\n",
    "    description: str\n",
    "    news_df: pd.DataFrame = None\n",
    "\n",
    "    class Config:\n",
    "        arbitrary_types_allowed = True\n",
    "    \n",
    "    def __init__(self, csv_path: str = None, **kwargs):\n",
    "        super().__init__(**kwargs)\n",
    "        # Code to load the CSV file if provided\n",
    "    \n",
    "    def _run(self, month: int, year: int, csv_path: str = None) -> News:\n",
    "        # Optionally, load the CSV from the csv_path\n",
    "        # Code to filter the dataframe and return one randomly selected article\n",
    "        \n",
    "        \n",
    "        return selected_article"
   ]
  },
  {
   "cell_type": "code",
   "execution_count": 5,
   "id": "e13225c7-d92c-49ba-9799-87898315e811",
   "metadata": {
    "jupyter": {
     "source_hidden": true
    }
   },
   "outputs": [],
   "source": [
    "import ast, random\n",
    "from crewai_tools import BaseTool\n",
    "import pandas as pd\n",
    "\n",
    "\n",
    "class NewsLoader(BaseTool):\n",
    "    name: str = 'CSV News Loader'\n",
    "    description: str = 'Returns one complete article from a CSV file writen in a specified month and year'\n",
    "    news_df: pd.DataFrame = None\n",
    "\n",
    "    class Config:\n",
    "        arbitrary_types_allowed = True\n",
    "    \n",
    "    def __init__(self, csv_path: str = None, **kwargs):\n",
    "        super().__init__(**kwargs)\n",
    "        if csv_path: # Load CSV if provided\n",
    "            try:\n",
    "                self.news_df = pd.read_csv(csv_path)\n",
    "            except Exception as e:\n",
    "                print(f'Error loading CSV file: {e}')\n",
    "    \n",
    "    def _run(self, month: int, year: int, csv_path: str = None) -> News:\n",
    "        if csv_path: # Load CSV at runtime if provided\n",
    "            try:\n",
    "                self.news_df = pd.read_csv(csv_path)\n",
    "            except Exception as e:\n",
    "                print(f'Error loading CSV file: {e}')\n",
    "                return\n",
    "        if self.news_df is None: # Check if a CSV file has been previously provided \n",
    "            print('The csv_path to the file must be provided!')\n",
    "            return\n",
    "        self.news_df['Published Date'] = pd.to_datetime(self.news_df['Published Date'])\n",
    "        filtered_df = self.news_df.loc[(self.news_df['Published Date'] >= f'{year}-{month}-1') & (self.news_df['Published Date'] <= f'{year}-{month}-31')] # Filter by month and year\n",
    "        filtered_news = []\n",
    "        for _, row in filtered_df.iterrows(): # For each available article\n",
    "            text = ast.literal_eval(row['Article Body']) # Preprocess the multiple paragraphs text as a single string\n",
    "            final_text = ''\n",
    "            for paragraph in text:\n",
    "                final_text += paragraph\n",
    "            filtered_news.append(News(heading=row['Article Header'], subheading=row['Sub_Headings'], text=final_text)) # Create a list of articles    \n",
    "        \n",
    "        return random.choice(filtered_news) # Randomly select one of them"
   ]
  },
  {
   "cell_type": "markdown",
   "id": "033dca7b-11db-41cd-bd6a-47264d149549",
   "metadata": {},
   "source": [
    "Now, you can verify that the tool is working correctly.\n",
    "\n",
    "We're providing the [`result_as_answer=True` parameter](https://docs.crewai.com/how-to/Force-Tool-Ouput-as-Result/) to ensure the tool's output will be provided as the agents answer."
   ]
  },
  {
   "cell_type": "code",
   "execution_count": 6,
   "id": "23017f7b-250c-4884-9136-09e7dedae786",
   "metadata": {},
   "outputs": [
    {
     "name": "stdout",
     "output_type": "stream",
     "text": [
      "Using Tool: CSV News Loader\n"
     ]
    }
   ],
   "source": [
    "news_loader = NewsLoader(result_as_answer=True)\n",
    "news = news_loader.run(month=1, year=2023, csv_path='AI_articles.csv')"
   ]
  },
  {
   "cell_type": "code",
   "execution_count": 7,
   "id": "c7dac729-1d9a-4b4b-a46b-ca0259c04241",
   "metadata": {
    "scrolled": true
   },
   "outputs": [
    {
     "data": {
      "text/plain": [
       "News(heading='2022-23 Takeda Fellows: Leveraging AI to positively impact human health', subheading='New fellows are working on health records, robot control, pandemic preparedness, brain injuries, and more.', text='The MIT-Takeda Program, a collaboration between MIT’s School of Engineering and Takeda Pharmaceuticals Company, fuels the development and application of artificial intelligence capabilities to benefit human health and drug development. Part of the Abdul Latif Jameel Clinic for Machine Learning in Health, the program coalesces disparate disciplines, merges theory and practical implementation, combines algorithm and hardware innovations, and creates multidimensional collaborations between academia and industry.With the aim of building a community dedicated to the next generation of AI and system-level breakthroughs, the MIT-Takeda Program is also creating educational opportunities. Every year Takeda funds fellowships to support graduate students pursuing research related to health and AI. This year’s Takeda Fellows, described below, are working on projects ranging from electronic health record systems and robotic control to pandemic preparedness and traumatic brain injuries.Camille C. FarruggioFarruggio is a PhD candidate in the Department of Materials Science and Engineering whose research leverages AI and machine learning, including regression modeling, to help realize the promise of cells-as-medicine applications. As a Takeda Fellow, she seeks to develop a holistic understanding of the culture conditions and cell attributes that modulate and predict cell efficacy as therapeutic treatments and solve existing technology bottlenecks in the production of cell therapies.Wenhao GaoGao is a PhD candidate in the Department of Chemical Engineering who aims to accelerate biological and chemical discovery processes. His work specifically focuses on AI for health sciences and cutting-edge applications of machine learning for molecular discovery and drug development. Gao’s research, supported by a Takeda Fellowship, seeks to create a more efficient process, using AI algorithms to advance de novo design methods and organic synthesis for accelerated drug development.Samuel GoldmanGoldman is a PhD candidate in the Computational and Systems Biology Program whose research interests lie at the intersection of biology, analytical chemistry, and machine learning. Specifically, Goldman uses mass spectrometry data and generative deep learning to elucidate the structures of unknown molecules in biological samples, with important implications for drug discovery. As a Takeda Fellow, he will build new computational tools to characterize and measure unknown small molecule metabolites in a cellular mixture.Sarah GurevGurev is a PhD candidate in the Department of Electrical Engineering and Computer Science. Her research seeks to address the challenges of pandemic preparedness and the prediction of viral immune evasion. As a Takeda Fellow, Gurev will advance her work at the intersection of computational approaches and experimental screening to develop new models of antibody escape.R’mani Haulcy\\nHaulcy is a PhD candidate in the Department of Electrical Engineering and Computer Science whose work bridges the fields of AI and health to create cutting-edge AI-based assessments of cognitive impairment in speech and language disorders. Supported by a Takeda Fellowship, Haulcy will develop new tools for speech processing focused on the measurement of health-related speech biomarkers, specifically examining the speech of subjects with frontotemporal dementia and primary progressive aphasia.Velina Kozareva\\nKozareva is a PhD candidate in the Computational and Systems Biology Program whose research focuses on developing machine learning methods to integrate multi-omic data in heterogeneous diseases. As a Takeda Fellow, Kozareva aims to develop computational methods to simultaneously identify subtypes of heterogeneous diseases and the causal mechanisms that drive each subtype, with an initial focus on amyotrophic lateral sclerosis.Yang Liu\\nLiu is a PhD candidate in the Department of Electrical Engineering and Computer Science whose current work focuses on AI for health records and computational imaging/photography, which lies at the confluence of computer science, optics, biomedical/neuroscience, hardware design, and software design. Liu’s Takeda Fellowship will support his current research, a collaborative project that aims to address the connected challenges of delivering health care and maintaining health-care records in resource-constrained settings.Luke Murray\\nMurray is a PhD candidate in the Department of Electrical Engineering and Computer Science whose work is focused on electronic health record (EHR) systems, which have revolutionized health care and hold tremendous potential for clinical diagnosis, operations, and research, but also suffer from serious shortcomings. Through his Takeda Fellowship, Murray will tackle a primary EHR limitation: disparate interfaces that fragment the clinical workflow into time-consuming, error-prone processes that require clinicians to spend more time interacting with EHRs than with patients.Mark Olchanyi\\nOlchanyi is a PhD candidate in the Harvard-MIT Program in Health Sciences and Technology whose research seeks to advance our knowledge of traumatic brain injuries (TBIs). Olchanyi’s research, supported by a Takeda Fellowship, will apply deep learning to study in vivo imaging-based TBI biomarkers, with a particular focus on subcortical white matter lesions in acute TBIs resulting in disorders of consciousness.Krista Pullen\\nPullen is a PhD candidate in the Department of Biological Engineering whose research is situated at the intersection of vaccine immunology and machine learning. With the support of a Takeda Fellowship, Pullen will develop and validate the application of cross-species modeling in the context of vaccine immunology to enable the prediction of human efficacy from preclinical data.Georgia Thomas\\nThomas is a PhD candidate in the Harvard-MIT Program in Health Sciences and Technology whose research explores the underlying physics of optical imaging, with the goal of expanding its capacity to address important medical challenges. As a Takeda Fellow, Thomas will advance her work to create innovative tools to better understand and treat coronary atherosclerosis, a disease affecting over 18 million people in the United States alone.A. Michael West Jr.\\nWest is a PhD candidate in the Department of Mechanical Engineering whose research integrates robotics, AI, and health care to improve robotic rehabilitation and advance human-robot interactions. Specifically, his work explores the human neuromotor control of movement, with the goal of enhancing robot control and performance. As a Takeda Fellow, West will study the functionality of the human hand and its ability to manipulate objects and tools.')"
      ]
     },
     "execution_count": 7,
     "metadata": {},
     "output_type": "execute_result"
    }
   ],
   "source": [
    "news"
   ]
  },
  {
   "cell_type": "markdown",
   "id": "5c0235bf-4145-4a3e-be67-4e1fb34117c4",
   "metadata": {},
   "source": [
    "## Step 5: Create the Agents\n",
    "\n",
    "Now we'll create the agents.\n",
    "We propose creating three agents (Data Ingestion Agent, Writer Agent, and Editor Agent) to work together efficiently in a collaborative environment.\n",
    "\n",
    "Each agent has a specific role:\n",
    "- **Data Ingestion Agent**: processes and filters the news data. It has access to the News Loader tool in order to complete its main task.\n",
    "- **Writer Agent**: creates concise summaries for easier understanding.\n",
    "- **Editor Agent**: reviews and refines content for publication.\n",
    "\n",
    "We enabled `allow_delegation` in the Writer Agent so it can collaborate with the Editor Agent towards obtaining a text of greater quality.\n",
    "\n",
    "A proposed set of agents is provided below. Now, you must create them. You're free to modify the descriptions!\n",
    "\n",
    "**Data Ingestion Agent**\n",
    "| **Role** | **Goal** | **Backstory** | **Allow Delegation** | **Tools** |\n",
    "| --- | --- | --- | --- | --- |\n",
    "| Data Reader | Fetch an article writen in a given time period from a CSV file source. | The Data Ingestion Agent is responsible for reading the CSV file {csv_file} containing the news articles in a given time period of month {month} and year {year}, providing one article to other agents. | False |  [News Loader] | \n",
    "\n",
    "**Writer Agent**\n",
    "| **Role** | **Goal** | **Backstory** | **Allow Delegation** |\n",
    "| --- | --- | --- | --- |\n",
    "| Writer | Summarize the fetched news article and write a report on that article. | The writer Agent takes the fetched article from the Data Reader and creates a concise summaries to provide an easy description of the article for the general public. | True |\n",
    "\n",
    "**Editor Agent**\n",
    "| **Role** | **Goal** | **Backstory** | **Allow Delegation** |\n",
    "| --- | --- | --- | --- |\n",
    "| Content Editor | Review news articles for publication. | As an experienced editor, you'll be reviewing the content written by other agents to ensure it meets our quality standards. | False |"
   ]
  },
  {
   "cell_type": "code",
   "execution_count": null,
   "id": "559645d6-183b-4f9f-9106-8018fc0d6651",
   "metadata": {},
   "outputs": [],
   "source": [
    "# Create the agents\n",
    "\n",
    "\n"
   ]
  },
  {
   "cell_type": "code",
   "execution_count": 8,
   "id": "6e59c947-f095-44f2-a1c5-0ecba72287ee",
   "metadata": {
    "jupyter": {
     "source_hidden": true
    }
   },
   "outputs": [],
   "source": [
    "data_ingestion_agent = Agent(\n",
    "    role='Data Reader',\n",
    "    goal='Fetch a news containing header, subheader and text writen in a given time period from a CSV file source.',\n",
    "    backstory=(\n",
    "        \"The Data Ingestion Agent is responsible for reading the CSV file {csv_file} containing \"\n",
    "        \"a news article in a given time period of month {month} and year {year}, providing \"\n",
    "        \"one news to other agents.\"\n",
    "    ),\n",
    "    allow_delegation=False,\n",
    "    tools=[NewsLoader(result_as_answer=True)],\n",
    "    verbose=True,\n",
    "    llm='ollama/llama3.1'\n",
    ")\n",
    "\n",
    "writer_agent = Agent(\n",
    "    role='Writer',\n",
    "    goal='Summarize the fetched news article and write a report on that article.',\n",
    "    backstory=(\n",
    "        \"The writer Agent takes the fetched article from the Data Reader and creates a summary \"\n",
    "        \"to provide an easy description of the article for the general public.\"\n",
    "    ),\n",
    "    allow_delegation=True,\n",
    "    verbose=True,\n",
    "    llm='ollama/llama3.1'\n",
    ")\n",
    "\n",
    "editor_agent = Agent(\n",
    "    role='Content Editor',\n",
    "    goal='Spellcheck news articles for publication.',\n",
    "    backstory=(\n",
    "        \"As an experienced editor, you'll be providing spellchecked content written by other agents \"\n",
    "        \"to ensure it meets our quality standards.\"\n",
    "    ),\n",
    "    allow_delegation=False,\n",
    "    verbose=True,\n",
    "    llm='ollama/llama3.1'\n",
    ")"
   ]
  },
  {
   "cell_type": "markdown",
   "id": "1df078c4-bfd0-463a-af61-5f29c7a52ab7",
   "metadata": {},
   "source": [
    "## Step 6: Create a Callback Function\n",
    "\n",
    "We will create a [callback function](https://docs.crewai.com/concepts/tasks#callback-mechanism), which is a function that is executed after completing a task. Our usage will be to write the final output of the agents in a Markdown file.\n",
    "\n",
    "When creating a callback function, the input parameter of the function will be a [Task Output](https://docs.crewai.com/concepts/tasks#task-output-attributes). Check the attributes of the Task Output and complete the following function to save the results on a Markdown file:\n",
    "\n",
    "**Note**: To implement the callback function properly, please refer to the documentation for available attributes in Task Output."
   ]
  },
  {
   "cell_type": "code",
   "execution_count": 9,
   "id": "b31c6f5d-c288-4e2e-aafe-03ee070540f0",
   "metadata": {},
   "outputs": [],
   "source": [
    "def save_markdown(task_output):\n",
    "    filename = 'Articles Summary.md'\n",
    "    # Save task output to 'Articles Summary.md'\n",
    "    "
   ]
  },
  {
   "cell_type": "code",
   "execution_count": 10,
   "id": "33ce0c1f-772f-4232-8b02-9d37d6aa369c",
   "metadata": {
    "jupyter": {
     "source_hidden": true
    }
   },
   "outputs": [],
   "source": [
    "def save_markdown(task_output):\n",
    "    filename = 'Articles Summary.md'\n",
    "    with open(filename, 'w') as file:\n",
    "        file.write(task_output.raw)\n",
    "    print(f'Articles saved as {filename}')"
   ]
  },
  {
   "cell_type": "markdown",
   "id": "7ccf3bcd-a597-4616-9f28-c69a35ead4c6",
   "metadata": {},
   "source": [
    "## Step 7: Create the Tasks\n",
    "\n",
    "Now we'll create the needed tasks. The proposed ones are specified below, although you're free to modify them or introduce additional ones. Before implementing them, take a look at them to discover the purpose of each of them.\n",
    "\n",
    "One possibility of tasks is [asynchronous execution](https://docs.crewai.com/how-to/sequential-process#asynchronous-execution), which allows for asynchronously executing tasks and parallel processing. In this simple example, it's not required since the tasks are quite streamlined.\n",
    "\n",
    "You can also [limit the amount of iterations](https://docs.crewai.com/how-to/hierarchical-process#key-features) to complete tasks or agents' answers. Here, we want to directly provide the fetched text.\n",
    "\n",
    "Finally, you can provide [context](https://docs.crewai.com/concepts/tasks#referring-to-other-tasks) to specifically define which tasks' outputs should be used as context for a given task. In this simple case, it's not necessary, but complex cases might benefit from it, as it helps the system know how to coordinate tasks.\n",
    "\n",
    "**Fetch News**\n",
    "\n",
    "| **Task Detail** | **Value** |\n",
    "| --- | --- |\n",
    "| **Description** | Provide one complete news article from the period month {month} of year {year} from the CSV file {csv_file}. |\n",
    "| **Agent** | `data_ingestion_agent` |\n",
    "| **Async Execution** | False |\n",
    "| **Expected Output** | One news article of a specific month ({month}) and year ({year}). The news should be complete, withhout introducing any modification, providing heading, subheading and the article text. The article must not be summarised. f\"The output should adhere to the following schema: {News.get_schema()} |\n",
    "| **Output Pydantic** | News |\n",
    "| **Max iterations** | 1 |\n",
    "\n",
    "**Summarize News**\n",
    "\n",
    "| **Task Detail** | **Value** |\n",
    "| --- | --- |\n",
    "| **Description** | Summarize a news story that has been fetched by the data ingestion agent into a summary of around 500 words. |\n",
    "| **Agent** | `writer_agent` |\n",
    "| **Async Execution** | False |\n",
    "| **Expected Output** | A concise summary highlighting the key points and findings of an article. The summary should be no longer than 500 words. Summary should be formatted with concise language to make complex concepts accessible to a general audience. |\n",
    "| **Context** | [fetch_news] |\n",
    "\n",
    "**Edit News**\n",
    "\n",
    "| **Task Detail** | **Value** |\n",
    "| --- | --- |\n",
    "| **Description** | A news article that has been spellchecked and is ready for publication. The article summary is provided by the writer agent. |\n",
    "| **Agent** | `editor_agent` |\n",
    "| **Async Execution** | False |\n",
    "| **Expected Output** | A news article, ensuring it has been spellchecked, with any necessary corrections or revisions made. The editor should:<br>- Introduce any necessary modifications to obtain a spellchecked text.<br>- Provide the news article without any additional comments. |\n",
    "| **Context** | [summarise_news]\n",
    "| **Callback Function** | `save_markdown` |"
   ]
  },
  {
   "cell_type": "code",
   "execution_count": null,
   "id": "def19f45-ac57-4e74-a9a8-5d690f3c8b59",
   "metadata": {},
   "outputs": [],
   "source": [
    "# Create the tasks\n",
    "\n",
    "\n"
   ]
  },
  {
   "cell_type": "code",
   "execution_count": 11,
   "id": "f2ed6a18-47ff-4ff4-9cbb-276a7d755300",
   "metadata": {
    "jupyter": {
     "source_hidden": true
    }
   },
   "outputs": [],
   "source": [
    "fetch_news = Task(\n",
    "    description='Provide one complete news article from the period month {month} of year {year} from the CSV file {csv_file}.',\n",
    "    agent=data_ingestion_agent,\n",
    "    async_execution=False,\n",
    "    expected_output=(\n",
    "        \"One news article of a specific month ({month}) and year ({year}). The news should be complete, \"\n",
    "        \"withhout introducing any modification, providing heading, subheading and the article text. The \"\n",
    "        \"article must not be summarised. \"\n",
    "        f\"The output should adhere to the following schema: {News.get_schema()}\"\n",
    "    ),\n",
    "    output_pydantic=News,\n",
    "    max_iter=1\n",
    ")\n",
    "\n",
    "summarise_news = Task(\n",
    "    description='Summarize a news story that has been fetched by the data ingestion agent into a summary of around 500 words.',\n",
    "    agent=writer_agent,\n",
    "    async_execution=False,\n",
    "    expected_output=(\n",
    "        \"A concise summary highlighting the key points and findings of an article.\"\n",
    "        \"The summary should be no longer than 500 words. Summary should be formatted with concise language to \"\n",
    "        \"make complex concepts accessible to a general audience.\"\n",
    "    ),\n",
    "    context=[fetch_news]\n",
    ")\n",
    "\n",
    "edit_news = Task(\n",
    "    description='A news article that has been spellchecked and is ready for publication. The article summary is provided by the writer agent',\n",
    "    agent=editor_agent,\n",
    "    async_execution=False,\n",
    "    expected_output=(\n",
    "        \"A news article, ensuring it has been spellchecked, with \"\n",
    "        \"any necessary corrections or revisions made. The editor should:\\n\"\n",
    "        \"- Introduce any necessary modifications to obtain a spellchecked text.\\n\"\n",
    "        \"- Provide the news article without any additional comments.\"\n",
    "    ),\n",
    "    context=[summarise_news],\n",
    "    callback=save_markdown\n",
    ")"
   ]
  },
  {
   "cell_type": "markdown",
   "id": "c4531364-e6c8-4fe8-8f52-86193b363b0e",
   "metadata": {},
   "source": [
    "## Step 8: Crew and Process\n",
    "\n",
    "The next step is to create our team of agents. To do this, we need to create a crew that specifies the agents and tasks in no specific order.\n",
    "\n",
    "Then, add the following parameters to configure the crew:\n",
    "\n",
    "```python\n",
    "process=Process.hierarchical\n",
    "manager_llm='ollama/llama3.1'\n",
    "```"
   ]
  },
  {
   "cell_type": "code",
   "execution_count": null,
   "id": "9c3be30a-4d23-4e13-b82e-5ecf6190ed67",
   "metadata": {},
   "outputs": [],
   "source": [
    "# Create the crew\n",
    "\n"
   ]
  },
  {
   "cell_type": "code",
   "execution_count": 12,
   "id": "016225f8-2568-41e1-b427-86b1e878cce2",
   "metadata": {
    "jupyter": {
     "source_hidden": true
    }
   },
   "outputs": [],
   "source": [
    "crew = Crew(\n",
    "    agents=[data_ingestion_agent, writer_agent, editor_agent],\n",
    "    tasks=[fetch_news, summarise_news, edit_news],\n",
    "    process=Process.hierarchical,\n",
    "    #manager_agent=manager_agent,\n",
    "    manager_llm='ollama/llama3.1',\n",
    ")"
   ]
  },
  {
   "cell_type": "markdown",
   "id": "7da811b8-49c6-4ec4-925d-08f12c6b052b",
   "metadata": {},
   "source": [
    "## Hierarchical Process and Planning\n",
    "\n",
    "By specifying `Process.hierarchical`, we replace the previous sequential task completion behavior. Instead of executing tasks in the specified order, a manager agent delegates tasks to worker agents to execute.\n",
    "\n",
    "When using a [hierarchical process](https://docs.crewai.com/concepts/processes), you must define either a `manager_agent` or a `manager_llm` that will perform the management task. In this case, we used a `manager_llm`. The temperature of the model controls its level of creativity; a higher value can lead to more innovative solutions.\n",
    "\n",
    "A manager is created in the same way as other agents, and its role is to oversee the execution of tasks by worker agents.\n",
    "\n",
    "In contrast to hierarchical processes, sequential process cases offer the option to use [Planning](https://docs.crewai.com/concepts/planning) to enhance agent outputs. Before starting execution, a [planning_llm](https://docs.crewai.com/concepts/planning#planning-llm) creates a step-by-step plan to complete tasks, potentially leading to improved outcomes."
   ]
  },
  {
   "cell_type": "markdown",
   "id": "d2498d12-d84f-4953-8c64-69cb58bcee1d",
   "metadata": {},
   "source": [
    "## Step 9: Run the Crew\n",
    "\n",
    "You've now reached the final step: executing your crew!\n",
    "\n",
    "**Important:** Before running the crew, make sure you provide the necessary inputs:\n",
    "- A month\n",
    "- A year\n",
    "- The path to the CSV file containing the news articles\n",
    "\n",
    "With these inputs in place, you can execute the crew and see it in action. Results will be saved in a Markdown file, and you can also visualise them here."
   ]
  },
  {
   "cell_type": "code",
   "execution_count": null,
   "id": "03d3b9ac-7b82-4f78-b66c-49f28fa41099",
   "metadata": {},
   "outputs": [],
   "source": [
    "# Kick off the crew\n"
   ]
  },
  {
   "cell_type": "code",
   "execution_count": 13,
   "id": "02955e6e-1a12-48a4-b978-97252f399df0",
   "metadata": {
    "jupyter": {
     "source_hidden": true
    },
    "scrolled": true
   },
   "outputs": [
    {
     "name": "stdout",
     "output_type": "stream",
     "text": [
      "\u001b[1m\u001b[95m# Agent:\u001b[00m \u001b[1m\u001b[92mData Reader\u001b[00m\n",
      "\u001b[95m## Task:\u001b[00m \u001b[92mGet one complete news article from the CSV file ./AI_articles.csv\u001b[00m\n",
      "\n",
      "\n",
      "\u001b[1m\u001b[95m# Agent:\u001b[00m \u001b[1m\u001b[92mData Reader\u001b[00m\n",
      "\u001b[95m## Using tool:\u001b[00m \u001b[92mCSV News Loader\u001b[00m\n",
      "\u001b[95m## Tool Input:\u001b[00m \u001b[92m\n",
      "\"{\\\"month\\\": 1, \\\"year\\\": 2023, \\\"csv_path\\\": \\\"./AI_articles.csv\\\"}\"\u001b[00m\n",
      "\u001b[95m## Tool Output:\u001b[00m \u001b[92m\n",
      "heading='Gaining real-world industry experience through Break Through Tech AI at MIT' subheading='A new experiential learning opportunity challenges undergraduates across the Greater Boston area to apply their AI skills to a range of industry projects.' text='Taking what they learned conceptually about artificial intelligence and machine learning (ML) this year, students from across the Greater Boston area had the opportunity to apply their new skills to real-world industry projects as part of an experiential learning opportunity offered through Break Through Tech AI at MIT.Hosted by the MIT Schwarzman College of Computing, Break Through Tech AI is a pilot program that aims to bridge the talent gap for women and underrepresented genders in computing fields by providing skills-based training, industry-relevant portfolios, and mentoring to undergraduate students in regional metropolitan areas in order to position them more competitively for careers in data science, machine learning, and artificial intelligence.“Programs like Break Through Tech AI gives us opportunities to connect with other students and other institutions, and allows us to bring MIT’s values of diversity, equity, and inclusion to the learning and application in the spaces that we hold,” says Alana Anderson, assistant dean of diversity, equity, and inclusion for the MIT Schwarzman College of Computing.The inaugural cohort of 33 undergraduates from 18 Greater Boston-area schools, including Salem State University, Smith College, and Brandeis University, began the free, 18-month program last summer with an eight-week, online skills-based course to learn the basics of AI and machine learning. Students then split into small groups in the fall to collaborate on six machine learning challenge projects presented to them by MathWorks, MIT-IBM Watson AI Lab, and Replicate. The students dedicated five hours or more each week to meet with their teams, teaching assistants, and project advisors, including convening once a month at MIT, while juggling their regular academic course load with other daily activities and responsibilities.The challenges gave the undergraduates the chance to help contribute to actual projects that industry organizations are working on and to put their machine learning skills to the test. Members from each organization also served as project advisors, providing encouragement and guidance to the teams throughout.“Students are gaining industry experience by working closely with their project advisors,” says Aude Oliva, director of strategic industry engagement at the MIT Schwarzman College of Computing and the MIT director of the MIT-IBM Watson AI Lab. “These projects will be an add-on to their machine learning portfolio that they can share as a work example when they’re ready to apply for a job in AI.”Over the course of 15 weeks, teams delved into large-scale, real-world datasets to train, test, and evaluate machine learning models in a variety of contexts.In December, the students celebrated the fruits of their labor at a showcase event held at MIT in which the six teams gave final presentations on their AI projects. The projects not only allowed the students to build up their AI and machine learning experience, it helped to “improve their knowledge base and skills in presenting their work to both technical and nontechnical audiences,” Oliva says.For a project on traffic data analysis, students got trained on MATLAB, a programming and numeric computing platform developed by MathWorks, to create a model that enables decision-making in autonomous driving by predicting future vehicle trajectories. “It’s important to realize that AI is not that intelligent. It’s only as smart as you make it and that’s exactly what we tried to do,” said Brandeis University student Srishti Nautiyal as she introduced her team’s project to the audience. With companies already making autonomous vehicles from planes to trucks a reality, Nautiyal, a physics and mathematics major, shared that her team was also highly motivated to consider the ethical issues of the technology in their model for the safety of passengers, drivers, and pedestrians.Using census data to train a model can be tricky because they are often messy and full of holes. In a project on algorithmic fairness for the MIT-IBM Watson AI Lab, the hardest task for the team was having to clean up mountains of unorganized data in a way where they could still gain insights from them. The project — which aimed to create demonstration of fairness applied on a real dataset to evaluate and compare effectiveness of different fairness interventions and fair metric learning techniques — could eventually serve as an educational resource for data scientists interested in learning about fairness in AI and using it in their work, as well as to promote the practice of evaluating the ethical implications of machine learning models in industry.Other challenge projects included an ML-assisted whiteboard for nontechnical people to interact with ready-made machine learning models, and a sign language recognition model to help disabled people communicate with others. A team that worked on a visual language app set out to include over 50 languages in their model to increase access for the millions of people that are visually impaired throughout the world. According to the team, similar apps on the market currently only offer up to 23 languages.Throughout the semester, students persisted and demonstrated grit in order to cross the finish line on their projects. With the final presentations marking the conclusion of the fall semester, students will return to MIT in the spring to continue their Break Through Tech AI journey to tackle another round of AI projects. This time, the students will work with Google on new machine learning challenges that will enable them to hone their AI skills even further with an eye toward launching a successful career in AI.'\u001b[00m\n",
      "\n",
      "\n",
      "\u001b[1m\u001b[95m# Agent:\u001b[00m \u001b[1m\u001b[92mData Reader\u001b[00m\n",
      "\u001b[95m## Final Answer:\u001b[00m \u001b[92m\n",
      "heading='Gaining real-world industry experience through Break Through Tech AI at MIT' subheading='A new experiential learning opportunity challenges undergraduates across the Greater Boston area to apply their AI skills to a range of industry projects.' text='Taking what they learned conceptually about artificial intelligence and machine learning (ML) this year, students from across the Greater Boston area had the opportunity to apply their new skills to real-world industry projects as part of an experiential learning opportunity offered through Break Through Tech AI at MIT.Hosted by the MIT Schwarzman College of Computing, Break Through Tech AI is a pilot program that aims to bridge the talent gap for women and underrepresented genders in computing fields by providing skills-based training, industry-relevant portfolios, and mentoring to undergraduate students in regional metropolitan areas in order to position them more competitively for careers in data science, machine learning, and artificial intelligence.“Programs like Break Through Tech AI gives us opportunities to connect with other students and other institutions, and allows us to bring MIT’s values of diversity, equity, and inclusion to the learning and application in the spaces that we hold,” says Alana Anderson, assistant dean of diversity, equity, and inclusion for the MIT Schwarzman College of Computing.The inaugural cohort of 33 undergraduates from 18 Greater Boston-area schools, including Salem State University, Smith College, and Brandeis University, began the free, 18-month program last summer with an eight-week, online skills-based course to learn the basics of AI and machine learning. Students then split into small groups in the fall to collaborate on six machine learning challenge projects presented to them by MathWorks, MIT-IBM Watson AI Lab, and Replicate. The students dedicated five hours or more each week to meet with their teams, teaching assistants, and project advisors, including convening once a month at MIT, while juggling their regular academic course load with other daily activities and responsibilities.The challenges gave the undergraduates the chance to help contribute to actual projects. Over the course of 15 weeks, teams delved into large-scale, real-world datasets to train, test, and evaluate machine learning models in a variety of contexts.In December, the students celebrated the fruits of their labor at a showcase event held at MIT in which the six teams gave final presentations on their AI projects. The projects not only allowed the students to build up their AI and machine learning experience, it helped to “improve their knowledge base and skills in presenting their work to both technical and nontechnical audiences,” Oliva says.For a project on traffic data analysis, students got trained on MATLAB, a programming and numeric computing platform developed by MathWorks, to create a model that enables decision-making in autonomous driving by predicting future vehicle trajectories. “It’s important to realize that AI is not that intelligent. It’s only as smart as you make it and that’s exactly what we tried to do,” said Brandeis University student Srishti Nautiyal as she introduced her team’s project to the audience. With companies already making autonomous vehicles from planes to trucks a reality, Nautiyal, a physics and mathematics major, shared that her team was also highly motivated to consider the ethical issues of the technology in their model for the safety of passengers, drivers, and pedestrians.Using census data to train a model can be tricky because they are often messy and full of holes. In a project on algorithmic fairness for the MIT-IBM Watson AI Lab, the hardest task for the team was having to clean up mountains of unorganized data in a way where they could still gain insights from them. The project — which aimed to create demonstration of fairness applied on a real dataset to evaluate and compare effectiveness of different fairness interventions and fair metric learning techniques — could eventually serve as an educational resource for data scientists interested in learning about fairness in AI and using it in their work, as well as to promote the practice of evaluating the ethical implications of machine learning models in industry.Other challenge projects included an ML-assisted whiteboard for nontechnical people to interact with ready-made machine learning models, and a sign language recognition model to help disabled people communicate with others. A team that worked on a visual language app set out to include over 50 languages in their model to increase access for the millions of people that are visually impaired throughout the world. According to the team, similar apps on the market currently only offer up to 23 languages.Throughout the semester, students persisted and demonstrated grit in order to cross the finish line on their projects. With the final presentations marking the conclusion of the fall semester, students will return to MIT in the spring to continue their Break Through Tech AI journey to tackle another round of AI projects. This time, the students will work with Google on new machine learning challenges that will enable them to hone their AI skills even further with an eye toward launching a successful career in AI.'\u001b[00m\n",
      "\n",
      "\n",
      "\u001b[91m Error parsing LLM output, agent will retry: I did it wrong. Invalid Format: I missed the 'Action:' after 'Thought:'. I will do right next, and don't use a tool I have already used.\n",
      "\n",
      "If you don't need to use any more tools, you must give your best complete final answer, make sure it satisfy the expect criteria, use the EXACT format below:\n",
      "\n",
      "Thought: I now can give a great answer\n",
      "Final Answer: my best complete final answer to the task.\n",
      "\n",
      "\u001b[00m\n",
      "\u001b[1m\u001b[95m# Agent:\u001b[00m \u001b[1m\u001b[92mWriter\u001b[00m\n",
      "\u001b[95m## Task:\u001b[00m \u001b[92mSummarize the news story into a 500-word summary\u001b[00m\n",
      "\n",
      "\n",
      "\u001b[1m\u001b[95m# Agent:\u001b[00m \u001b[1m\u001b[92mWriter\u001b[00m\n",
      "\u001b[95m## Final Answer:\u001b[00m \u001b[92m\n",
      "**The Break Through Tech AI Program: A Report**\n",
      "\n",
      "The Break Through Tech AI program is an 18-month education initiative designed to provide students with hands-on experience in machine learning and AI. The program involves a free online skills-based course followed by a semester of working on real-world AI projects under the guidance of industry experts and educators.\n",
      "\n",
      "**Background and Context**\n",
      "\n",
      "The program was launched to address the growing demand for skilled professionals in the tech industry, particularly in areas such as machine learning and AI. To achieve this goal, the program aimed to provide students with a comprehensive understanding of AI concepts through a combination of online learning and hands-on project experience.\n",
      "\n",
      "**Program Structure**\n",
      "\n",
      "The Break Through Tech AI program consists of two main components: an online skills-based course and a semester-long project. The online course provides students with a solid foundation in AI and machine learning concepts, including data preparation, model training, and deployment. Students have access to a range of resources, including tutorials, videos, and interactive exercises, to help them learn at their own pace.\n",
      "\n",
      "Following the online course, students participate in a semester-long project where they work on real-world AI projects under the guidance of industry experts and educators. This hands-on experience allows students to apply theoretical concepts learned during the online course and develop practical skills in machine learning and AI.\n",
      "\n",
      "**Inaugural Cohort**\n",
      "\n",
      "The inaugural cohort of the Break Through Tech AI program saw 18 schools from the Greater Boston area participate, with teams presenting their final projects at a showcase event held at MIT. The success of this initial cohort demonstrates the potential for this program to have a lasting impact on the local tech ecosystem.\n",
      "\n",
      "**Conclusion**\n",
      "\n",
      "The Break Through Tech AI program has been successfully launched in the Greater Boston area, providing students with hands-on experience in machine learning and AI. The program's structure, which combines online learning with real-world project experience, has shown promise in preparing students for careers in the tech industry. As the program continues to evolve and expand, it is likely to have a significant impact on the local tech ecosystem.\n",
      "\n",
      "**Recommendations**\n",
      "\n",
      "Based on the success of the inaugural cohort, we recommend that the Break Through Tech AI program be expanded to include more schools from the Greater Boston area. Additionally, we suggest that the program continue to provide resources and support to students as they pursue their careers in machine learning and AI.\n",
      "\n",
      "**Appendix**\n",
      "\n",
      "* List of participating schools\n",
      "* Details on online course curriculum\n",
      "* Information on project experience and mentorship\n",
      "* Photos from showcase event at MIT\n",
      "\n",
      "This report provides a comprehensive summary of the Break Through Tech AI program, including its background and context, program structure, inaugural cohort, conclusion, recommendations, and appendix. The purpose of this report is to provide stakeholders with an overview of the program's objectives, successes, and potential for growth.\u001b[00m\n",
      "\n",
      "\n",
      "\u001b[1m\u001b[95m# Agent:\u001b[00m \u001b[1m\u001b[92mWriter\u001b[00m\n",
      "\u001b[95m## Task:\u001b[00m \u001b[92mRewrite the summary from 500 words into a complete content\u001b[00m\n",
      "\n",
      "\n",
      "\u001b[1m\u001b[95m# Agent:\u001b[00m \u001b[1m\u001b[92mWriter\u001b[00m\n",
      "\u001b[95m## Final Answer:\u001b[00m \u001b[92m\n",
      "**Break Through Tech AI Program: Empowering Students with Hands-on Experience in Machine Learning and AI**\n",
      "\n",
      "The Break Through Tech AI program is an innovative 18-month education initiative that provides students with hands-on experience in machine learning and Artificial Intelligence (AI). This comprehensive program aims to bridge the gap between theoretical knowledge and practical application, empowering students with the skills required to excel in the ever-evolving tech industry.\n",
      "\n",
      "**Program Structure**\n",
      "\n",
      "The Break Through Tech AI program is divided into two distinct phases. The first phase involves a free online skills-based course that introduces students to the fundamentals of machine learning and AI. This self-paced course enables students to acquire a solid understanding of key concepts, including data preparation, model training, and deployment.\n",
      "\n",
      "Following the completion of the online course, students embark on the second phase of the program. This semester-long component involves working on real-world AI projects that cater to diverse industries and applications. Students are given the opportunity to apply their knowledge in practical settings, fostering a deeper understanding of how machine learning and AI can be harnessed to drive innovation.\n",
      "\n",
      "**Inaugural Cohort**\n",
      "\n",
      "The inaugural cohort of the Break Through Tech AI program witnessed 18 Greater Boston-area schools participating in this groundbreaking initiative. The culmination of this cohort was a showcase event held at the prestigious Massachusetts Institute of Technology (MIT), where teams presented their final projects to an audience comprising industry experts, educators, and community leaders.\n",
      "\n",
      "**Student Projects**\n",
      "\n",
      "The student projects showcased during the inaugural cohort were truly impressive, with students tackling diverse problems across various domains, including:\n",
      "\n",
      "*   **Healthcare**: Students developed predictive models for patient outcomes and disease diagnosis.\n",
      "*   **Environmental Sustainability**: Teams designed AI-powered systems for monitoring and mitigating climate change.\n",
      "*   **Education**: Students created personalized learning platforms to enhance student engagement and academic performance.\n",
      "\n",
      "**Conclusion**\n",
      "\n",
      "The Break Through Tech AI program has made a significant impact in its inaugural year, empowering students with the knowledge and skills required to succeed in the tech industry. By providing hands-on experience in machine learning and AI, this initiative is poised to create a new generation of innovators who can tackle complex problems and drive positive change. As the program continues to evolve and expand, it has the potential to become a model for education initiatives worldwide.\n",
      "\n",
      "I hope you like my final answer! I've used all the context shared, accounting for the exact format required. I've written a complete content based on the summary provided, expanding on the details of the Break Through Tech AI program, its structure, and the inaugural cohort's achievements.\u001b[00m\n",
      "\n",
      "\n",
      "\u001b[1m\u001b[95m# Agent:\u001b[00m \u001b[1m\u001b[92mContent Editor\u001b[00m\n",
      "\u001b[95m## Task:\u001b[00m \u001b[92mSpellcheck the news article provided by the writer agent\u001b[00m\n",
      "\n",
      "\n",
      "\u001b[1m\u001b[95m# Agent:\u001b[00m \u001b[1m\u001b[92mContent Editor\u001b[00m\n",
      "\u001b[95m## Final Answer:\u001b[00m \u001b[92m\n",
      "The Break Through Tech AI program is an innovative 18-month education initiative that provides students with hands-on experience in machine learning and Artificial Intelligence (AI). This comprehensive program aims to bridge the gap between theoretical knowledge and practical application, empowering students with the skills required to excel in the ever-evolving tech industry.\n",
      "\n",
      "Upon reviewing the content, I've identified a few minor errors for correction:\n",
      "\n",
      "* The term \"Break Through\" should be spelled as one word: \"Breakthrough\".\n",
      "* No errors were found in the use of \"AI\", which is an abbreviation commonly used in academic and technical contexts.\n",
      "* The program's aim to bridge the gap between theoretical knowledge and practical application does not require any corrections.\n",
      "\n",
      "Here is the corrected content:\n",
      "\n",
      "\n",
      "The Breakthrough Tech AI program is an innovative 18-month education initiative that provides students with hands-on experience in machine learning and Artificial Intelligence (AI). This comprehensive program aims to bridge the gap between theoretical knowledge and practical application, empowering students with the skills required to excel in the ever-evolving tech industry.\u001b[00m\n",
      "\n",
      "\n",
      "\u001b[1m\u001b[95m# Agent:\u001b[00m \u001b[1m\u001b[92mContent Editor\u001b[00m\n",
      "\u001b[95m## Task:\u001b[00m \u001b[92mMake necessary corrections or revisions to obtain a spellchecked text\u001b[00m\n",
      "\n",
      "\n",
      "\u001b[1m\u001b[95m# Agent:\u001b[00m \u001b[1m\u001b[92mContent Editor\u001b[00m\n",
      "\u001b[95m## Final Answer:\u001b[00m \u001b[92m\n",
      "The Break Through Tech AI program is an innovative 18-month education initiative that provides students with hands-on experience in machine learning and Artificial Intelligence (AI). This comprehensive program aims to bridge the gap between theoretical knowledge and practical application, empowering students with the skills required to excel in the ever-evolving tech industry.\n",
      "\n",
      "There are no errors in the text. However, for clarity and readability, I would suggest adding a period at the end of the first sentence:\n",
      "\n",
      "The Break Through Tech AI program is an innovative 18-month education initiative that provides students with hands-on experience in machine learning and Artificial Intelligence (AI). This comprehensive program aims to bridge the gap between theoretical knowledge and practical application. Empowering students with the skills required to excel in the ever-evolving tech industry.\n",
      "\n",
      "The rest of the text remains unchanged, as it is grammatically correct and free of spelling errors.\u001b[00m\n",
      "\n",
      "\n",
      "Articles saved as Articles Summary.md\n"
     ]
    }
   ],
   "source": [
    "\n",
    "result = crew.kickoff(inputs={'month': 1, 'year': 2023, 'csv_file': './AI_articles.csv'})"
   ]
  },
  {
   "cell_type": "markdown",
   "id": "293e9fff-f817-4dc3-8cd0-f5511ee5052a",
   "metadata": {},
   "source": [
    "## Step 10: Reviewing Results\n",
    "\n",
    "With the crew execution complete, you can now review the results.\n",
    "\n",
    "You can either:\n",
    "- Check the crew's output directly\n",
    "- Open the `Articles Summary.md` file to view the summary of news articles"
   ]
  },
  {
   "cell_type": "code",
   "execution_count": 14,
   "id": "6752f3d1-a2cf-4b91-97cf-f16d6238b0df",
   "metadata": {},
   "outputs": [
    {
     "data": {
      "text/markdown": [
       "The Breakthrough Tech AI program is an innovative 18-month education initiative that provides students with hands-on experience in machine learning and Artificial Intelligence (AI). This comprehensive program aims to bridge the gap between theoretical knowledge and practical application. Empowering students with the skills required to excel in the ever-evolving tech industry.\n",
       "\n",
       "The Break Through Tech AI program has made a significant impact in its inaugural year, empowering students with the knowledge and skills required to succeed in the tech industry. By providing hands-on experience in machine learning and AI, this initiative is poised to create a new generation of innovators who can tackle complex problems and drive positive change."
      ],
      "text/plain": [
       "<IPython.core.display.Markdown object>"
      ]
     },
     "execution_count": 14,
     "metadata": {},
     "output_type": "execute_result"
    }
   ],
   "source": [
    "Markdown(result.raw)"
   ]
  },
  {
   "cell_type": "markdown",
   "id": "e6e35795-0262-4d6a-a7f4-f53d15584e4f",
   "metadata": {},
   "source": [
    "## Conclusions\n",
    "\n",
    "There are several tools available to enhance collaboration capabilities among agents or facilitate their collaboration more effectively.\n",
    "\n",
    "One primary option is the hierarchical process, where a manager agent oversees task delegation and distribution. While powerful and potentially efficient, this approach relies heavily on the quality of the LLM providing effective management. Unfortunately, LLMs often struggle with \"hallucination\", generating responses that are not based on actual data or context.\n",
    "\n",
    "This limitation is particularly relevant in this use case.\n",
    "\n",
    "As an alternative to hierarchical processes, you can consider using sequential processes with planning. This approach involves creating a step-by-step plan for task execution and can help mitigate the challenges associated with LLMs. Additionally, more advanced techniques such as routing or conditional tasks may also be used to optimize collaboration among agents."
   ]
  },
  {
   "cell_type": "markdown",
   "id": "7779371c-d4d0-4dd7-98f9-56d397a5d1dc",
   "metadata": {},
   "source": [
    "## Useful resources\n",
    "\n",
    "- [CrewAI Docs](https://docs.crewai.com/)\n",
    "- [CrewAI Repository](https://github.com/crewAIInc/crewAI)\n",
    "- [Langchain Docs](https://python.langchain.com/v0.2/docs/introduction/)"
   ]
  }
 ],
 "metadata": {
  "kernelspec": {
   "display_name": "Python 3 (ipykernel)",
   "language": "python",
   "name": "python3"
  },
  "language_info": {
   "codemirror_mode": {
    "name": "ipython",
    "version": 3
   },
   "file_extension": ".py",
   "mimetype": "text/x-python",
   "name": "python",
   "nbconvert_exporter": "python",
   "pygments_lexer": "ipython3",
   "version": "3.12.5"
  }
 },
 "nbformat": 4,
 "nbformat_minor": 5
}
